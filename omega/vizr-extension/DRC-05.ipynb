{
 "cells": [
  {
   "cell_type": "code",
   "execution_count": 2,
   "metadata": {},
   "outputs": [],
   "source": [
    "import sys\n",
    "import logging\n",
    "base_path = \"../../../../\"\n",
    "sys.path.insert(0, base_path + \"STR/str-omega/\")"
   ]
  },
  {
   "cell_type": "code",
   "execution_count": 3,
   "metadata": {},
   "outputs": [],
   "source": [
    "from omega.vizr import VizrIntegration\n",
    "import pandas as pd"
   ]
  },
  {
   "cell_type": "code",
   "execution_count": 7,
   "metadata": {},
   "outputs": [
    {
     "name": "stdout",
     "output_type": "stream",
     "text": [
      "#drc\n",
      "W3sibWFya2Rvd24iOiAiIyMgQ2hlY2sgaW52ZW50b3J5IGFwcHMgd2l0aCBhY2Nlc3MgaW4geW91ciBvcmdhbml6YXRpb24ifSwgeyJjb2RlIjogImZyb20gdml6ci5henVyZS5iYXNlIGltcG9ydCBBenVyZVxuIn0sIHsibWFya2Rvd24iOiAiIyMgRW50ZXIgY2xpZW50X2lkLCB0ZW5hbnRfaWQsIHNlY3JldFxuIn0sIHsiY29kZSI6ICJheiA9IEF6dXJlKFxuICAgIGNsaWVudF9pZCA9IFwiLi4ucmVkYWN0ZWQgLi4uLlwiLFxuICAgIHRlbmFudF9pZCA9IFwiLi4uXCIsXG4gICAgc2VjcmV0ID0gXCIuLi5cIlxuKVxuIn0sIHsibWFya2Rvd24iOiAiIyMgUnVuIGNlbGxzIGJlbG93IGFuZCByZXZpZXc6XG4tIEluIHRoZSBDb25zZW50VHlwZSBzZWFyY2ggZm9yIHRoZSB2YWx1ZSBcIkFsbFByaW5jaXBsZXNcIi4gVGhlIEFsbFByaW5jaXBhbHMgcGVybWlzc2lvbiBhbGxvd3MgdGhlIGNsaWVudCBhcHBsaWNhdGlvbiB0byBhY2Nlc3MgZXZlcnlvbmUncyBjb250ZW50IGluIHRoZSB0ZW5hbmN5LiBOYXRpdmUgTWljcm9zb2Z0IDM2NSBhcHBsaWNhdGlvbnMgbmVlZCB0aGlzIHBlcm1pc3Npb24gdG8gd29yayBjb3JyZWN0bHkuIEV2ZXJ5IG5vbi1NaWNyb3NvZnQgYXBwbGljYXRpb24gd2l0aCB0aGlzIHBlcm1pc3Npb24gc2hvdWxkIGJlIHJldmlld2VkIGNhcmVmdWxseS5cbi0gSW4gdGhlIFBlcm1pc3Npb24gY29sdW1uIHJldmlldyB0aGUgcGVybWlzc2lvbnMgdGhhdCBlYWNoIGRlbGVnYXRlZCBhcHBsaWNhdGlvbiBoYXMgdG8gY29udGVudC4gTG9vayBmb3IgXFxcIlJlYWRcXFwiIGFuZCBcXFwiV3JpdGVcXFwiIHBlcm1pc3Npb24gb3IgXFxcIiouQWxsXFxcIiBwZXJtaXNzaW9uLCBhbmQgcmV2aWV3IHRoZXNlIGNhcmVmdWxseSBiZWNhdXNlIHRoZXkgbWF5IG5vdCBiZSBhcHByb3ByaWF0ZS5cbiJ9LCB7ImNvZGUiOiAicGQuc2V0X29wdGlvbihcbiAgICAnZGlzcGxheS5tYXhfY29sd2lkdGgnLCAxMDBcbilcbmF6LmdldE9hdXRoMlBlcm1pc3Npb25HcmFudHMoKVxuIn1d\n"
     ]
    }
   ],
   "source": [
    "drc = VizrIntegration(\n",
    "    omega_rules_home =  base_path +\"STR-UPS/wip/wip-azure-c2/stratum1\", \n",
    "    mapping= base_path+\"STR/str-omega/config/mapping.yml\"\n",
    ").buildDRC(\"drc-05\")\n",
    "\n",
    "pd.set_option(\n",
    "    'display.max_colwidth', 100\n",
    ")\n",
    "print(drc)"
   ]
  },
  {
   "cell_type": "markdown",
   "metadata": {},
   "source": [
    "## Check inventory apps with access in your organization"
   ]
  },
  {
   "cell_type": "code",
   "execution_count": null,
   "metadata": {},
   "outputs": [],
   "source": [
    "from vizr.azure.base import Azure\n"
   ]
  },
  {
   "cell_type": "markdown",
   "metadata": {},
   "source": [
    "## Enter client_id, tenant_id, secret\n"
   ]
  },
  {
   "cell_type": "code",
   "execution_count": null,
   "metadata": {},
   "outputs": [],
   "source": [
    "az = Azure(\n",
    "    client_id = \"...redacted ....\",\n",
    "    tenant_id = \"...\",\n",
    "    secret = \"...\"\n",
    ")\n"
   ]
  },
  {
   "cell_type": "markdown",
   "metadata": {},
   "source": [
    "## Run cells below and review:\n",
    "- In the ConsentType search for the value \"AllPrinciples\". The AllPrincipals permission allows the client application to access everyone's content in the tenancy. Native Microsoft 365 applications need this permission to work correctly. Every non-Microsoft application with this permission should be reviewed carefully.\n",
    "- In the Permission column review the permissions that each delegated application has to content. Look for \\\"Read\\\" and \\\"Write\\\" permission or \\\"*.All\\\" permission, and review these carefully because they may not be appropriate.\n"
   ]
  },
  {
   "cell_type": "code",
   "execution_count": null,
   "metadata": {},
   "outputs": [],
   "source": [
    "pd.set_option(\n",
    "    'display.max_colwidth', 100\n",
    ")\n",
    "az.getOauth2PermissionGrants()\n"
   ]
  },
  {
   "cell_type": "code",
   "execution_count": null,
   "metadata": {},
   "outputs": [],
   "source": []
  }
 ],
 "metadata": {
  "kernelspec": {
   "display_name": "Python 3",
   "language": "python",
   "name": "python3"
  },
  "language_info": {
   "codemirror_mode": {
    "name": "ipython",
    "version": 3
   },
   "file_extension": ".py",
   "mimetype": "text/x-python",
   "name": "python",
   "nbconvert_exporter": "python",
   "pygments_lexer": "ipython3",
   "version": "3.8.1"
  }
 },
 "nbformat": 4,
 "nbformat_minor": 4
}
