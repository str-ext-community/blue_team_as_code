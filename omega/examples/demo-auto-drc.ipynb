{
 "cells": [
  {
   "cell_type": "code",
   "execution_count": 1,
   "metadata": {},
   "outputs": [],
   "source": [
    "import pandas as pd\n",
    "import sys,os\n",
    "os.chdir('../../')\n",
    "sys.path += [ os.path.abspath('../str-omega'), os.path.abspath('../str-omega/sigma/tools')]\n",
    "\n",
    "from omega.vizr import VizrIntegration\n"
   ]
  },
  {
   "cell_type": "code",
   "execution_count": 2,
   "metadata": {},
   "outputs": [
    {
     "name": "stdout",
     "output_type": "stream",
     "text": [
      "#drc\n",
      "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\n"
     ]
    }
   ],
   "source": [
    "drc = VizrIntegration(\n",
    "    omega_rules_home =  \"Demo/auto-drc\", \n",
    "    mapping= \"Demo/data/mapping.yml\"\n",
    ").buildDRC(\"hunt-rundll32-dllregisterserver\")\n",
    "\n",
    "pd.set_option(\n",
    "    'display.max_colwidth', 100\n",
    ")\n",
    "print(drc)"
   ]
  },
  {
   "cell_type": "markdown",
   "metadata": {},
   "source": [
    "## Hunting Hypothesis A2B:  hunt-rundll32-dllregisterserver\n",
    "-  Hunt for rundll32.exe execution that loads the DLL with DllRegisterServer export function\n"
   ]
  },
  {
   "cell_type": "code",
   "execution_count": 3,
   "metadata": {},
   "outputs": [],
   "source": [
    "import pandas as pd\n",
    "import logging\n",
    "logging.basicConfig(level=logging.ERROR)\n",
    "\n",
    "from vizr.STRVizr import STRVizr\n",
    "from omega.converter import STROmegaConverter\n",
    "from vizr.Drc import Drc\n"
   ]
  },
  {
   "cell_type": "markdown",
   "metadata": {},
   "source": [
    "### Create Securonix Client\n"
   ]
  },
  {
   "cell_type": "code",
   "execution_count": 4,
   "metadata": {},
   "outputs": [],
   "source": [
    "import pandas as pd\n",
    "from vizr.Drc import Drc\n",
    "\n",
    "client = STRVizr(host=\"https://**redacted***.securonix.net/Snypr/\", token=\"***redacted***\")\n",
    "timezone = \"EST\"\n",
    "#set timetarange\n",
    "dtime_from = \"08/01/2021 00:00:00\"\n",
    "dtime_to = \"08/31/2021 23:59:59\"\n"
   ]
  },
  {
   "cell_type": "code",
   "execution_count": 5,
   "metadata": {},
   "outputs": [
    {
     "name": "stdout",
     "output_type": "stream",
     "text": [
      "Translated query:\n",
      "rg_functionality = \"Endpoint Management Systems\" AND baseeventid = \"1\" AND resourcecustomfield8 ENDS WITH \"rundll32.exe\" AND resourcecustomfield1 CONTAINS \"DllRegisterServer\"\n"
     ]
    }
   ],
   "source": [
    "omega = STROmegaConverter(\n",
    "omega_rules_home =  \"./Demo/auto-drc/\", \n",
    "mapping= \"../str-omega/config/mapping.yml\")\n",
    "\n",
    "a2b_query = omega.convertByUUID(\n",
    "    uuid = \"hunt-rundll32-dllregisterserver\"\n",
    ")\n",
    "print(\"Translated query:\")\n",
    "print(a2b_query)\n"
   ]
  },
  {
   "cell_type": "code",
   "execution_count": 6,
   "metadata": {},
   "outputs": [
    {
     "data": {
      "text/html": [
       "<div>\n",
       "<style scoped>\n",
       "    .dataframe tbody tr th:only-of-type {\n",
       "        vertical-align: middle;\n",
       "    }\n",
       "\n",
       "    .dataframe tbody tr th {\n",
       "        vertical-align: top;\n",
       "    }\n",
       "\n",
       "    .dataframe thead th {\n",
       "        text-align: right;\n",
       "    }\n",
       "</style>\n",
       "<table border=\"1\" class=\"dataframe\">\n",
       "  <thead>\n",
       "    <tr style=\"text-align: right;\">\n",
       "      <th></th>\n",
       "      <th>Image</th>\n",
       "      <th>CommandLine</th>\n",
       "      <th>ParentImage</th>\n",
       "      <th>ParentCommandLine</th>\n",
       "    </tr>\n",
       "  </thead>\n",
       "  <tbody>\n",
       "    <tr>\n",
       "      <th>0</th>\n",
       "      <td>rundll32.exe</td>\n",
       "      <td>c:\\windows\\system32\\rundll32.exe c:\\users\\zryan\\appdata\\local\\temp\\MsMpEng.dll,DllRegisterServer</td>\n",
       "      <td>wermgr.exe</td>\n",
       "      <td>c:\\windows\\system32\\wermgr.exe</td>\n",
       "    </tr>\n",
       "    <tr>\n",
       "      <th>1</th>\n",
       "      <td>rundll32.exe</td>\n",
       "      <td>c:\\windows\\system32\\rundll32.exe fcagiep64.dll,DllRegisterServer</td>\n",
       "      <td>fcags.exe</td>\n",
       "      <td>C:\\Program Files\\McAfee\\DLP\\Agent\\fcags.exe</td>\n",
       "    </tr>\n",
       "    <tr>\n",
       "      <th>2</th>\n",
       "      <td>rundll32.exe</td>\n",
       "      <td>c:\\windows\\system32\\rundll32.exe fcagiep64.dll,DllRegisterServer</td>\n",
       "      <td>fcags.exe</td>\n",
       "      <td>C:\\Program Files\\McAfee\\DLP\\Agent\\fcags.exe</td>\n",
       "    </tr>\n",
       "    <tr>\n",
       "      <th>3</th>\n",
       "      <td>rundll32.exe</td>\n",
       "      <td>c:\\windows\\system32\\rundll32.exe fcagiep64.dll,DllRegisterServer</td>\n",
       "      <td>fcags.exe</td>\n",
       "      <td>C:\\Program Files\\McAfee\\DLP\\Agent\\fcags.exe</td>\n",
       "    </tr>\n",
       "    <tr>\n",
       "      <th>4</th>\n",
       "      <td>rundll32.exe</td>\n",
       "      <td>c:\\windows\\system32\\rundll32.exe fcagiep64.dll,DllRegisterServer</td>\n",
       "      <td>fcags.exe</td>\n",
       "      <td>C:\\Program Files\\McAfee\\DLP\\Agent\\fcags.exe</td>\n",
       "    </tr>\n",
       "    <tr>\n",
       "      <th>5</th>\n",
       "      <td>rundll32.exe</td>\n",
       "      <td>c:\\windows\\system32\\rundll32.exe fcagiep64.dll,DllRegisterServer</td>\n",
       "      <td>fcags.exe</td>\n",
       "      <td>C:\\Program Files\\McAfee\\DLP\\Agent\\fcags.exe</td>\n",
       "    </tr>\n",
       "    <tr>\n",
       "      <th>6</th>\n",
       "      <td>rundll32.exe</td>\n",
       "      <td>c:\\windows\\system32\\rundll32.exe fcagiep64.dll,DllRegisterServer</td>\n",
       "      <td>fcags.exe</td>\n",
       "      <td>C:\\Program Files\\McAfee\\DLP\\Agent\\fcags.exe</td>\n",
       "    </tr>\n",
       "    <tr>\n",
       "      <th>7</th>\n",
       "      <td>rundll32.exe</td>\n",
       "      <td>c:\\windows\\system32\\rundll32.exe fcagiep64.dll,DllRegisterServer</td>\n",
       "      <td>fcags.exe</td>\n",
       "      <td>C:\\Program Files\\McAfee\\DLP\\Agent\\fcags.exe</td>\n",
       "    </tr>\n",
       "    <tr>\n",
       "      <th>8</th>\n",
       "      <td>rundll32.exe</td>\n",
       "      <td>c:\\windows\\system32\\rundll32.exe fcagiep64.dll,DllRegisterServer</td>\n",
       "      <td>fcags.exe</td>\n",
       "      <td>C:\\Program Files\\McAfee\\DLP\\Agent\\fcags.exe</td>\n",
       "    </tr>\n",
       "    <tr>\n",
       "      <th>9</th>\n",
       "      <td>rundll32.exe</td>\n",
       "      <td>c:\\windows\\system32\\rundll32.exe fcagiep64.dll,DllRegisterServer</td>\n",
       "      <td>fcags.exe</td>\n",
       "      <td>C:\\Program Files\\McAfee\\DLP\\Agent\\fcags.exe</td>\n",
       "    </tr>\n",
       "    <tr>\n",
       "      <th>10</th>\n",
       "      <td>rundll32.exe</td>\n",
       "      <td>c:\\windows\\system32\\rundll32.exe fcagiep64.dll,DllRegisterServer</td>\n",
       "      <td>fcags.exe</td>\n",
       "      <td>C:\\Program Files\\McAfee\\DLP\\Agent\\fcags.exe</td>\n",
       "    </tr>\n",
       "    <tr>\n",
       "      <th>11</th>\n",
       "      <td>rundll32.exe</td>\n",
       "      <td>c:\\windows\\system32\\rundll32.exe fcagiep64.dll,DllRegisterServer</td>\n",
       "      <td>fcags.exe</td>\n",
       "      <td>C:\\Program Files\\McAfee\\DLP\\Agent\\fcags.exe</td>\n",
       "    </tr>\n",
       "  </tbody>\n",
       "</table>\n",
       "</div>"
      ],
      "text/plain": [
       "           Image  \\\n",
       "0   rundll32.exe   \n",
       "1   rundll32.exe   \n",
       "2   rundll32.exe   \n",
       "3   rundll32.exe   \n",
       "4   rundll32.exe   \n",
       "5   rundll32.exe   \n",
       "6   rundll32.exe   \n",
       "7   rundll32.exe   \n",
       "8   rundll32.exe   \n",
       "9   rundll32.exe   \n",
       "10  rundll32.exe   \n",
       "11  rundll32.exe   \n",
       "\n",
       "                                                                                         CommandLine  \\\n",
       "0   c:\\windows\\system32\\rundll32.exe c:\\users\\zryan\\appdata\\local\\temp\\MsMpEng.dll,DllRegisterServer   \n",
       "1                                   c:\\windows\\system32\\rundll32.exe fcagiep64.dll,DllRegisterServer   \n",
       "2                                   c:\\windows\\system32\\rundll32.exe fcagiep64.dll,DllRegisterServer   \n",
       "3                                   c:\\windows\\system32\\rundll32.exe fcagiep64.dll,DllRegisterServer   \n",
       "4                                   c:\\windows\\system32\\rundll32.exe fcagiep64.dll,DllRegisterServer   \n",
       "5                                   c:\\windows\\system32\\rundll32.exe fcagiep64.dll,DllRegisterServer   \n",
       "6                                   c:\\windows\\system32\\rundll32.exe fcagiep64.dll,DllRegisterServer   \n",
       "7                                   c:\\windows\\system32\\rundll32.exe fcagiep64.dll,DllRegisterServer   \n",
       "8                                   c:\\windows\\system32\\rundll32.exe fcagiep64.dll,DllRegisterServer   \n",
       "9                                   c:\\windows\\system32\\rundll32.exe fcagiep64.dll,DllRegisterServer   \n",
       "10                                  c:\\windows\\system32\\rundll32.exe fcagiep64.dll,DllRegisterServer   \n",
       "11                                  c:\\windows\\system32\\rundll32.exe fcagiep64.dll,DllRegisterServer   \n",
       "\n",
       "   ParentImage                            ParentCommandLine  \n",
       "0   wermgr.exe               c:\\windows\\system32\\wermgr.exe  \n",
       "1    fcags.exe  C:\\Program Files\\McAfee\\DLP\\Agent\\fcags.exe  \n",
       "2    fcags.exe  C:\\Program Files\\McAfee\\DLP\\Agent\\fcags.exe  \n",
       "3    fcags.exe  C:\\Program Files\\McAfee\\DLP\\Agent\\fcags.exe  \n",
       "4    fcags.exe  C:\\Program Files\\McAfee\\DLP\\Agent\\fcags.exe  \n",
       "5    fcags.exe  C:\\Program Files\\McAfee\\DLP\\Agent\\fcags.exe  \n",
       "6    fcags.exe  C:\\Program Files\\McAfee\\DLP\\Agent\\fcags.exe  \n",
       "7    fcags.exe  C:\\Program Files\\McAfee\\DLP\\Agent\\fcags.exe  \n",
       "8    fcags.exe  C:\\Program Files\\McAfee\\DLP\\Agent\\fcags.exe  \n",
       "9    fcags.exe  C:\\Program Files\\McAfee\\DLP\\Agent\\fcags.exe  \n",
       "10   fcags.exe  C:\\Program Files\\McAfee\\DLP\\Agent\\fcags.exe  \n",
       "11   fcags.exe  C:\\Program Files\\McAfee\\DLP\\Agent\\fcags.exe  "
      ]
     },
     "execution_count": 6,
     "metadata": {},
     "output_type": "execute_result"
    }
   ],
   "source": [
    "df = await client.search(\n",
    "    a2b_query, \n",
    "    time_from=dtime_from, \n",
    "    time_to=dtime_to\n",
    ")\n",
    "\n",
    "df = df[['destinationprocessname','resourcecustomfield1','sourceprocessname','resourcecustomfield2']]\n",
    "df.columns = ['Image', 'CommandLine', 'ParentImage', 'ParentCommandLine']\n",
    "df\n"
   ]
  },
  {
   "cell_type": "markdown",
   "metadata": {},
   "source": [
    "### Filter FP\n"
   ]
  },
  {
   "cell_type": "code",
   "execution_count": 7,
   "metadata": {},
   "outputs": [
    {
     "data": {
      "text/html": [
       "<div>\n",
       "<style scoped>\n",
       "    .dataframe tbody tr th:only-of-type {\n",
       "        vertical-align: middle;\n",
       "    }\n",
       "\n",
       "    .dataframe tbody tr th {\n",
       "        vertical-align: top;\n",
       "    }\n",
       "\n",
       "    .dataframe thead th {\n",
       "        text-align: right;\n",
       "    }\n",
       "</style>\n",
       "<table border=\"1\" class=\"dataframe\">\n",
       "  <thead>\n",
       "    <tr style=\"text-align: right;\">\n",
       "      <th></th>\n",
       "      <th>Image</th>\n",
       "      <th>CommandLine</th>\n",
       "      <th>ParentImage</th>\n",
       "      <th>ParentCommandLine</th>\n",
       "    </tr>\n",
       "  </thead>\n",
       "  <tbody>\n",
       "    <tr>\n",
       "      <th>0</th>\n",
       "      <td>rundll32.exe</td>\n",
       "      <td>c:\\windows\\system32\\rundll32.exe c:\\users\\zryan\\appdata\\local\\temp\\MsMpEng.dll,DllRegisterServer</td>\n",
       "      <td>wermgr.exe</td>\n",
       "      <td>c:\\windows\\system32\\wermgr.exe</td>\n",
       "    </tr>\n",
       "  </tbody>\n",
       "</table>\n",
       "</div>"
      ],
      "text/plain": [
       "          Image  \\\n",
       "0  rundll32.exe   \n",
       "\n",
       "                                                                                        CommandLine  \\\n",
       "0  c:\\windows\\system32\\rundll32.exe c:\\users\\zryan\\appdata\\local\\temp\\MsMpEng.dll,DllRegisterServer   \n",
       "\n",
       "  ParentImage               ParentCommandLine  \n",
       "0  wermgr.exe  c:\\windows\\system32\\wermgr.exe  "
      ]
     },
     "execution_count": 7,
     "metadata": {},
     "output_type": "execute_result"
    }
   ],
   "source": [
    "pd.set_option('display.max_rows', None)\n",
    "pd.set_option('display.max_columns', None)\n",
    "pd.set_option('display.width', None)\n",
    "pd.set_option('display.max_colwidth', None)\n",
    "\n",
    "df = df[(df['ParentImage'] != 'fcags.exe')]\n",
    "df\n"
   ]
  },
  {
   "cell_type": "markdown",
   "metadata": {},
   "source": [
    "### Create hunting rule from this df\n"
   ]
  },
  {
   "cell_type": "code",
   "execution_count": 8,
   "metadata": {},
   "outputs": [
    {
     "name": "stdout",
     "output_type": "stream",
     "text": [
      "Rule with uuid: 74646cd5-021e-43f1-95ac-2978a2f4eaaa created!\n"
     ]
    }
   ],
   "source": [
    "drc = Drc()\n",
    "rule_uuid = drc.drc_generate_omega(df, './Demo/auto-drc/auto-rule.yml')\n",
    "print(f\"Rule with uuid: {rule_uuid} created!\")\n"
   ]
  },
  {
   "cell_type": "markdown",
   "metadata": {},
   "source": [
    "### Convert rule to query\n"
   ]
  },
  {
   "cell_type": "code",
   "execution_count": 9,
   "metadata": {},
   "outputs": [
    {
     "name": "stdout",
     "output_type": "stream",
     "text": [
      "Translated query:\n",
      "(rg_functionality = \"Endpoint Management Systems\" AND baseeventid = \"1\") AND (resourcecustomfield8 CONTAINS \"rundll32.exe\" OR (resourcecustomfield1 CONTAINS \"c:\\windows\\system32\\rundll32.exe\" AND resourcecustomfield1 CONTAINS \"appdata\\local\\temp\\MsMpEng.dll,DllRegisterServer\") OR resourcecustomfield7 CONTAINS \"wermgr.exe\" OR resourcecustomfield2 CONTAINS \"c:\\windows\\system32\\wermgr.exe\")\n"
     ]
    }
   ],
   "source": [
    "omega = STROmegaConverter(\n",
    "omega_rules_home =  \"./Demo/auto-drc/\", \n",
    "mapping= \"../str-omega/config/mapping.yml\")\n",
    "\n",
    "a2b_query = omega.convertByUUID(\n",
    "    uuid = rule_uuid\n",
    ")\n",
    "print(\"Translated query:\")\n",
    "print(a2b_query)"
   ]
  },
  {
   "cell_type": "code",
   "execution_count": null,
   "metadata": {},
   "outputs": [],
   "source": []
  }
 ],
 "metadata": {
  "kernelspec": {
   "display_name": "Python 3",
   "language": "python",
   "name": "python3"
  },
  "language_info": {
   "codemirror_mode": {
    "name": "ipython",
    "version": 3
   },
   "file_extension": ".py",
   "mimetype": "text/x-python",
   "name": "python",
   "nbconvert_exporter": "python",
   "pygments_lexer": "ipython3",
   "version": "3.8.1"
  }
 },
 "nbformat": 4,
 "nbformat_minor": 4
}
