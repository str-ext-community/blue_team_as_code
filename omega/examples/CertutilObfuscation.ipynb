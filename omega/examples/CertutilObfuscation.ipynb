{
 "cells": [
  {
   "cell_type": "markdown",
   "metadata": {},
   "source": [
    "### Hunting detection #4\n"
   ]
  },
  {
   "cell_type": "code",
   "execution_count": 1,
   "metadata": {},
   "outputs": [],
   "source": [
    "import sys,os\n",
    "os.chdir('../../')\n",
    "sys.path += [ os.path.abspath('../str-omega'), os.path.abspath('../str-omega/sigma/tools')]\n"
   ]
  },
  {
   "cell_type": "markdown",
   "metadata": {},
   "source": [
    "## Import Libraries and convert detection to SIEM query"
   ]
  },
  {
   "cell_type": "code",
   "execution_count": 2,
   "metadata": {},
   "outputs": [
    {
     "name": "stdout",
     "output_type": "stream",
     "text": [
      "{\n",
      "    \"query\": {\n",
      "        \"constant_score\": {\n",
      "            \"filter\": {\n",
      "                \"bool\": {\n",
      "                    \"must\": [\n",
      "                        {\n",
      "                            \"match_phrase\": {\n",
      "                                \"event_id\": \"1\"\n",
      "                            }\n",
      "                        },\n",
      "                        {\n",
      "                            \"bool\": {\n",
      "                                \"should\": [\n",
      "                                    {\n",
      "                                        \"wildcard\": {\n",
      "                                            \"process_command_line.keyword\": \"*/f*\"\n",
      "                                        }\n",
      "                                    },\n",
      "                                    {\n",
      "                                        \"wildcard\": {\n",
      "                                            \"process_command_line.keyword\": \"*-f*\"\n",
      "                                        }\n",
      "                                    }\n",
      "                                ]\n",
      "                            }\n",
      "                        }\n",
      "                    ]\n",
      "                }\n",
      "            }\n",
      "        }\n",
      "    }\n",
      "}\n"
     ]
    }
   ],
   "source": [
    "import json\n",
    "from sigma.config.collection import SigmaConfigurationManager\n",
    "from sigma.configuration import SigmaConfiguration, SigmaConfigurationChain\n",
    "from sigma.parser.collection import SigmaCollectionParser\n",
    "from sigma.backends.elasticsearch import ElastalertBackendQs\n",
    "\n",
    "from sigma.backends.elasticsearch import ElasticsearchDSLBackend\n",
    "\n",
    "\n",
    "class ConvertDetection(ElasticsearchDSLBackend):\n",
    "    def __init__(self, *args, **kwargs):\n",
    "        mapping, = args\n",
    "        with open(mapping, 'r') as stream:\n",
    "            self.sigmaconfigs = SigmaConfiguration(configyaml=stream)\n",
    "        super().__init__(self.sigmaconfigs, {})\n",
    "\n",
    "    def convert(self, a2b_file):\n",
    "        with open(a2b_file, 'r') as stream:\n",
    "            parser = SigmaCollectionParser(stream, self.sigmaconfigs, None)\n",
    "\n",
    "        parser.generate(self)\n",
    "        result = self.finalize()\n",
    "        return result\n",
    "        \n",
    "mapping = \"./Demo/RT-TOP5/detections/mapping.yml\"\n",
    "detection =  \"./Demo/RT-TOP5/detections/detection4.yml\"\n",
    "\n",
    "backend = ConvertDetection(mapping)\n",
    "query_txt = backend.convert(detection)\n",
    "query = json.loads(query_txt)\n",
    "print(json.dumps(\n",
    "    query,\n",
    "    sort_keys=True,\n",
    "    indent=4,\n",
    "    separators=(',', ': ')\n",
    "))\n"
   ]
  },
  {
   "cell_type": "markdown",
   "metadata": {},
   "source": [
    "## Create connection to SIEM and run converted query"
   ]
  },
  {
   "cell_type": "code",
   "execution_count": 3,
   "metadata": {},
   "outputs": [
    {
     "name": "stdout",
     "output_type": "stream",
     "text": [
      "Got 2945 Hits\n"
     ]
    }
   ],
   "source": [
    "#!python3 -m pip install elasticsearch\n",
    "from elasticsearch import Elasticsearch\n",
    "es = Elasticsearch(['http://localhost:9200'])\n",
    "res = es.search(index=\"logs-endpoint-winevent-sysmon-*\", body=query, size='10000')\n",
    "print(\"Got %d Hits\" % res['hits']['total']['value'])"
   ]
  },
  {
   "cell_type": "code",
   "execution_count": null,
   "metadata": {},
   "outputs": [],
   "source": [
    "# res['hits']"
   ]
  },
  {
   "cell_type": "markdown",
   "metadata": {},
   "source": [
    "## Check results "
   ]
  },
  {
   "cell_type": "code",
   "execution_count": 4,
   "metadata": {},
   "outputs": [
    {
     "data": {
      "text/html": [
       "<div>\n",
       "<style scoped>\n",
       "    .dataframe tbody tr th:only-of-type {\n",
       "        vertical-align: middle;\n",
       "    }\n",
       "\n",
       "    .dataframe tbody tr th {\n",
       "        vertical-align: top;\n",
       "    }\n",
       "\n",
       "    .dataframe thead th {\n",
       "        text-align: right;\n",
       "    }\n",
       "</style>\n",
       "<table border=\"1\" class=\"dataframe\">\n",
       "  <thead>\n",
       "    <tr style=\"text-align: right;\">\n",
       "      <th></th>\n",
       "      <th>event_original_time</th>\n",
       "      <th>process_command_line</th>\n",
       "    </tr>\n",
       "  </thead>\n",
       "  <tbody>\n",
       "    <tr>\n",
       "      <th>0</th>\n",
       "      <td>2021-07-27T00:38:43.359Z</td>\n",
       "      <td>\\??\\c:\\windows\\system32\\conhost.exe 0xffffffff...</td>\n",
       "    </tr>\n",
       "    <tr>\n",
       "      <th>1</th>\n",
       "      <td>2021-07-27T00:38:44.548Z</td>\n",
       "      <td>\"collectguestlogs.exe\" -mode:ga -filename:d:\\c...</td>\n",
       "    </tr>\n",
       "    <tr>\n",
       "      <th>2</th>\n",
       "      <td>2021-07-27T00:38:44.565Z</td>\n",
       "      <td>\\??\\c:\\windows\\system32\\conhost.exe 0xffffffff...</td>\n",
       "    </tr>\n",
       "    <tr>\n",
       "      <th>3</th>\n",
       "      <td>2021-07-27T00:38:53.531Z</td>\n",
       "      <td>\\??\\c:\\windows\\system32\\conhost.exe 0xffffffff...</td>\n",
       "    </tr>\n",
       "    <tr>\n",
       "      <th>4</th>\n",
       "      <td>2021-07-27T00:29:37.057Z</td>\n",
       "      <td>\\??\\c:\\windows\\system32\\conhost.exe 0xffffffff...</td>\n",
       "    </tr>\n",
       "    <tr>\n",
       "      <th>...</th>\n",
       "      <td>...</td>\n",
       "      <td>...</td>\n",
       "    </tr>\n",
       "    <tr>\n",
       "      <th>2940</th>\n",
       "      <td>2021-08-03T13:27:34.379Z</td>\n",
       "      <td>c:\\windows\\system32\\taskkill.exe /f /fi \"modul...</td>\n",
       "    </tr>\n",
       "    <tr>\n",
       "      <th>2941</th>\n",
       "      <td>2021-08-03T13:27:34.387Z</td>\n",
       "      <td>\\??\\c:\\windows\\system32\\conhost.exe 0xffffffff...</td>\n",
       "    </tr>\n",
       "    <tr>\n",
       "      <th>2942</th>\n",
       "      <td>2021-08-03T13:27:34.564Z</td>\n",
       "      <td>\\??\\c:\\windows\\system32\\conhost.exe 0xffffffff...</td>\n",
       "    </tr>\n",
       "    <tr>\n",
       "      <th>2943</th>\n",
       "      <td>2021-08-03T13:27:33.881Z</td>\n",
       "      <td>\\??\\c:\\windows\\system32\\conhost.exe 0xffffffff...</td>\n",
       "    </tr>\n",
       "    <tr>\n",
       "      <th>2944</th>\n",
       "      <td>2021-08-03T13:27:38.080Z</td>\n",
       "      <td>\\??\\c:\\windows\\system32\\conhost.exe 0xffffffff...</td>\n",
       "    </tr>\n",
       "  </tbody>\n",
       "</table>\n",
       "<p>2945 rows × 2 columns</p>\n",
       "</div>"
      ],
      "text/plain": [
       "           event_original_time  \\\n",
       "0     2021-07-27T00:38:43.359Z   \n",
       "1     2021-07-27T00:38:44.548Z   \n",
       "2     2021-07-27T00:38:44.565Z   \n",
       "3     2021-07-27T00:38:53.531Z   \n",
       "4     2021-07-27T00:29:37.057Z   \n",
       "...                        ...   \n",
       "2940  2021-08-03T13:27:34.379Z   \n",
       "2941  2021-08-03T13:27:34.387Z   \n",
       "2942  2021-08-03T13:27:34.564Z   \n",
       "2943  2021-08-03T13:27:33.881Z   \n",
       "2944  2021-08-03T13:27:38.080Z   \n",
       "\n",
       "                                   process_command_line  \n",
       "0     \\??\\c:\\windows\\system32\\conhost.exe 0xffffffff...  \n",
       "1     \"collectguestlogs.exe\" -mode:ga -filename:d:\\c...  \n",
       "2     \\??\\c:\\windows\\system32\\conhost.exe 0xffffffff...  \n",
       "3     \\??\\c:\\windows\\system32\\conhost.exe 0xffffffff...  \n",
       "4     \\??\\c:\\windows\\system32\\conhost.exe 0xffffffff...  \n",
       "...                                                 ...  \n",
       "2940  c:\\windows\\system32\\taskkill.exe /f /fi \"modul...  \n",
       "2941  \\??\\c:\\windows\\system32\\conhost.exe 0xffffffff...  \n",
       "2942  \\??\\c:\\windows\\system32\\conhost.exe 0xffffffff...  \n",
       "2943  \\??\\c:\\windows\\system32\\conhost.exe 0xffffffff...  \n",
       "2944  \\??\\c:\\windows\\system32\\conhost.exe 0xffffffff...  \n",
       "\n",
       "[2945 rows x 2 columns]"
      ]
     },
     "execution_count": 4,
     "metadata": {},
     "output_type": "execute_result"
    }
   ],
   "source": [
    "from pandas import json_normalize\n",
    "import pandas as pd\n",
    "#pd.set_option('display.max_colwidth', None)\n",
    "\n",
    "df = json_normalize([x['_source'] for x in res['hits']['hits']])\n",
    "df[['event_original_time', 'process_command_line']]\n",
    "# with pd.option_context('display.max_rows', 10, 'display.max_columns', None, 'display.colheader_justify','light', 'display.width', 2000, 'display.max_colwidth', 500):\n",
    "#     df_styled = df.copy()\n",
    "#     df_styled = df_styled[['event_original_time', 'process_command_line']]\n",
    "#     df_styled = df_styled.stack().str.lstrip().unstack()\n",
    "#     df_styled = df_styled.style.set_properties(**{'text-align': 'left'})\n",
    "    \n",
    "# df_styled"
   ]
  },
  {
   "cell_type": "code",
   "execution_count": 6,
   "metadata": {},
   "outputs": [
    {
     "data": {
      "text/html": [
       "<style  type=\"text/css\" >\n",
       "#T_89319_row0_col0,#T_89319_row0_col1,#T_89319_row1_col0,#T_89319_row1_col1,#T_89319_row2_col0,#T_89319_row2_col1,#T_89319_row3_col0,#T_89319_row3_col1,#T_89319_row4_col0,#T_89319_row4_col1{\n",
       "            text-align:  left;\n",
       "        }</style><table id=\"T_89319_\" ><thead>    <tr>        <th class=\"blank level0\" ></th>        <th class=\"col_heading level0 col0\" >event_original_time</th>        <th class=\"col_heading level0 col1\" >process_command_line</th>    </tr></thead><tbody>\n",
       "                <tr>\n",
       "                        <th id=\"T_89319_level0_row0\" class=\"row_heading level0 row0\" >2851</th>\n",
       "                        <td id=\"T_89319_row0_col0\" class=\"data row0 col0\" >2021-08-03T08:51:04.538Z</td>\n",
       "                        <td id=\"T_89319_row0_col1\" class=\"data row0 col1\" >certutil  -f -₞u₞rᴸ\"c₞a₞ch\"e  -split https://wietze.github.io/robots.txt output.txt</td>\n",
       "            </tr>\n",
       "            <tr>\n",
       "                        <th id=\"T_89319_level0_row1\" class=\"row_heading level0 row1\" >0</th>\n",
       "                        <td id=\"T_89319_row1_col0\" class=\"data row1 col0\" >2021-07-27T00:38:43.359Z</td>\n",
       "                        <td id=\"T_89319_row1_col1\" class=\"data row1 col1\" >\\??\\c:\\windows\\system32\\conhost.exe 0xffffffff -forcev1</td>\n",
       "            </tr>\n",
       "            <tr>\n",
       "                        <th id=\"T_89319_level0_row2\" class=\"row_heading level0 row2\" >1967</th>\n",
       "                        <td id=\"T_89319_row2_col0\" class=\"data row2 col0\" >2021-07-30T08:45:29.361Z</td>\n",
       "                        <td id=\"T_89319_row2_col1\" class=\"data row2 col1\" >c:\\windows\\system32\\compattelrunner.exe -m:appraiser.dll -f:updateavstatus -cv:c9kfrkhweu2+g8u3.3</td>\n",
       "            </tr>\n",
       "            <tr>\n",
       "                        <th id=\"T_89319_level0_row3\" class=\"row_heading level0 row3\" >1958</th>\n",
       "                        <td id=\"T_89319_row3_col0\" class=\"data row3 col0\" >2021-07-30T05:00:14.730Z</td>\n",
       "                        <td id=\"T_89319_row3_col1\" class=\"data row3 col1\" >\\??\\c:\\windows\\system32\\conhost.exe 0xffffffff -forcev1</td>\n",
       "            </tr>\n",
       "            <tr>\n",
       "                        <th id=\"T_89319_level0_row4\" class=\"row_heading level0 row4\" >1959</th>\n",
       "                        <td id=\"T_89319_row4_col0\" class=\"data row4 col0\" >2021-07-30T05:00:22.594Z</td>\n",
       "                        <td id=\"T_89319_row4_col1\" class=\"data row4 col1\" >\\??\\c:\\windows\\system32\\conhost.exe 0xffffffff -forcev1</td>\n",
       "            </tr>\n",
       "    </tbody></table>"
      ],
      "text/plain": [
       "<pandas.io.formats.style.Styler at 0x7fbdaab7bdc0>"
      ]
     },
     "execution_count": 6,
     "metadata": {},
     "output_type": "execute_result"
    }
   ],
   "source": [
    "def calc(cmdline):\n",
    "    return len(cmdline) - len(cmdline.encode(\"ascii\", \"ignore\"))\n",
    "\n",
    "df['obf'] = df.apply(lambda row : calc(row['process_command_line']), axis = 1)\n",
    "with pd.option_context('display.max_rows', None, 'display.max_columns', None, 'display.colheader_justify','light', 'display.width', 2000, 'display.max_colwidth', 500):\n",
    "    df_styled = df[['event_original_time', 'process_command_line', 'obf']].sort_values(by=['obf'], ascending=False).head(5).copy()\n",
    "    df_styled = df_styled[['event_original_time', 'process_command_line']]\n",
    "    df_styled = df_styled.stack().str.lstrip().unstack()\n",
    "    df_styled = df_styled.style.set_properties(**{'text-align': 'left'})\n",
    "    \n",
    "df_styled\n",
    "\n",
    "\n"
   ]
  },
  {
   "cell_type": "code",
   "execution_count": null,
   "metadata": {},
   "outputs": [],
   "source": []
  }
 ],
 "metadata": {
  "kernelspec": {
   "display_name": "Python 3",
   "language": "python",
   "name": "python3"
  },
  "language_info": {
   "codemirror_mode": {
    "name": "ipython",
    "version": 3
   },
   "file_extension": ".py",
   "mimetype": "text/x-python",
   "name": "python",
   "nbconvert_exporter": "python",
   "pygments_lexer": "ipython3",
   "version": "3.8.1"
  }
 },
 "nbformat": 4,
 "nbformat_minor": 4
}
